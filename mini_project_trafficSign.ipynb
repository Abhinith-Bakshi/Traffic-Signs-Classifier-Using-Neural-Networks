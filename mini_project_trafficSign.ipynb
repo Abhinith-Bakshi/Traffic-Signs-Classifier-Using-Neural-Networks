{
  "nbformat": 4,
  "nbformat_minor": 0,
  "metadata": {
    "colab": {
      "name": "mini_project_trafficSign.ipynb",
      "provenance": [],
      "collapsed_sections": []
    },
    "kernelspec": {
      "name": "python3",
      "display_name": "Python 3"
    },
    "language_info": {
      "name": "python"
    },
    "accelerator": "GPU"
  },
  "cells": [
    {
      "cell_type": "code",
      "metadata": {
        "id": "CLRF1c3VGHp-",
        "colab": {
          "base_uri": "https://localhost:8080/"
        },
        "outputId": "82932c73-634c-4179-f1d9-dee5f1b90c0d"
      },
      "source": [
        "!pip install tensorflow\n",
        "!pip install np_utils"
      ],
      "execution_count": null,
      "outputs": [
        {
          "output_type": "stream",
          "text": [
            "Requirement already satisfied: tensorflow in /usr/local/lib/python3.7/dist-packages (2.5.0)\n",
            "Requirement already satisfied: google-pasta~=0.2 in /usr/local/lib/python3.7/dist-packages (from tensorflow) (0.2.0)\n",
            "Requirement already satisfied: tensorflow-estimator<2.6.0,>=2.5.0rc0 in /usr/local/lib/python3.7/dist-packages (from tensorflow) (2.5.0)\n",
            "Requirement already satisfied: grpcio~=1.34.0 in /usr/local/lib/python3.7/dist-packages (from tensorflow) (1.34.1)\n",
            "Requirement already satisfied: tensorboard~=2.5 in /usr/local/lib/python3.7/dist-packages (from tensorflow) (2.5.0)\n",
            "Requirement already satisfied: protobuf>=3.9.2 in /usr/local/lib/python3.7/dist-packages (from tensorflow) (3.12.4)\n",
            "Requirement already satisfied: keras-preprocessing~=1.1.2 in /usr/local/lib/python3.7/dist-packages (from tensorflow) (1.1.2)\n",
            "Requirement already satisfied: typing-extensions~=3.7.4 in /usr/local/lib/python3.7/dist-packages (from tensorflow) (3.7.4.3)\n",
            "Requirement already satisfied: six~=1.15.0 in /usr/local/lib/python3.7/dist-packages (from tensorflow) (1.15.0)\n",
            "Requirement already satisfied: numpy~=1.19.2 in /usr/local/lib/python3.7/dist-packages (from tensorflow) (1.19.5)\n",
            "Requirement already satisfied: wheel~=0.35 in /usr/local/lib/python3.7/dist-packages (from tensorflow) (0.36.2)\n",
            "Requirement already satisfied: h5py~=3.1.0 in /usr/local/lib/python3.7/dist-packages (from tensorflow) (3.1.0)\n",
            "Requirement already satisfied: absl-py~=0.10 in /usr/local/lib/python3.7/dist-packages (from tensorflow) (0.12.0)\n",
            "Requirement already satisfied: termcolor~=1.1.0 in /usr/local/lib/python3.7/dist-packages (from tensorflow) (1.1.0)\n",
            "Requirement already satisfied: astunparse~=1.6.3 in /usr/local/lib/python3.7/dist-packages (from tensorflow) (1.6.3)\n",
            "Requirement already satisfied: opt-einsum~=3.3.0 in /usr/local/lib/python3.7/dist-packages (from tensorflow) (3.3.0)\n",
            "Requirement already satisfied: wrapt~=1.12.1 in /usr/local/lib/python3.7/dist-packages (from tensorflow) (1.12.1)\n",
            "Requirement already satisfied: flatbuffers~=1.12.0 in /usr/local/lib/python3.7/dist-packages (from tensorflow) (1.12)\n",
            "Requirement already satisfied: keras-nightly~=2.5.0.dev in /usr/local/lib/python3.7/dist-packages (from tensorflow) (2.5.0.dev2021032900)\n",
            "Requirement already satisfied: gast==0.4.0 in /usr/local/lib/python3.7/dist-packages (from tensorflow) (0.4.0)\n",
            "Requirement already satisfied: requests<3,>=2.21.0 in /usr/local/lib/python3.7/dist-packages (from tensorboard~=2.5->tensorflow) (2.23.0)\n",
            "Requirement already satisfied: google-auth<2,>=1.6.3 in /usr/local/lib/python3.7/dist-packages (from tensorboard~=2.5->tensorflow) (1.31.0)\n",
            "Requirement already satisfied: werkzeug>=0.11.15 in /usr/local/lib/python3.7/dist-packages (from tensorboard~=2.5->tensorflow) (1.0.1)\n",
            "Requirement already satisfied: google-auth-oauthlib<0.5,>=0.4.1 in /usr/local/lib/python3.7/dist-packages (from tensorboard~=2.5->tensorflow) (0.4.4)\n",
            "Requirement already satisfied: markdown>=2.6.8 in /usr/local/lib/python3.7/dist-packages (from tensorboard~=2.5->tensorflow) (3.3.4)\n",
            "Requirement already satisfied: tensorboard-data-server<0.7.0,>=0.6.0 in /usr/local/lib/python3.7/dist-packages (from tensorboard~=2.5->tensorflow) (0.6.1)\n",
            "Requirement already satisfied: tensorboard-plugin-wit>=1.6.0 in /usr/local/lib/python3.7/dist-packages (from tensorboard~=2.5->tensorflow) (1.8.0)\n",
            "Requirement already satisfied: setuptools>=41.0.0 in /usr/local/lib/python3.7/dist-packages (from tensorboard~=2.5->tensorflow) (57.0.0)\n",
            "Requirement already satisfied: cached-property; python_version < \"3.8\" in /usr/local/lib/python3.7/dist-packages (from h5py~=3.1.0->tensorflow) (1.5.2)\n",
            "Requirement already satisfied: certifi>=2017.4.17 in /usr/local/lib/python3.7/dist-packages (from requests<3,>=2.21.0->tensorboard~=2.5->tensorflow) (2021.5.30)\n",
            "Requirement already satisfied: idna<3,>=2.5 in /usr/local/lib/python3.7/dist-packages (from requests<3,>=2.21.0->tensorboard~=2.5->tensorflow) (2.10)\n",
            "Requirement already satisfied: chardet<4,>=3.0.2 in /usr/local/lib/python3.7/dist-packages (from requests<3,>=2.21.0->tensorboard~=2.5->tensorflow) (3.0.4)\n",
            "Requirement already satisfied: urllib3!=1.25.0,!=1.25.1,<1.26,>=1.21.1 in /usr/local/lib/python3.7/dist-packages (from requests<3,>=2.21.0->tensorboard~=2.5->tensorflow) (1.24.3)\n",
            "Requirement already satisfied: rsa<5,>=3.1.4; python_version >= \"3.6\" in /usr/local/lib/python3.7/dist-packages (from google-auth<2,>=1.6.3->tensorboard~=2.5->tensorflow) (4.7.2)\n",
            "Requirement already satisfied: cachetools<5.0,>=2.0.0 in /usr/local/lib/python3.7/dist-packages (from google-auth<2,>=1.6.3->tensorboard~=2.5->tensorflow) (4.2.2)\n",
            "Requirement already satisfied: pyasn1-modules>=0.2.1 in /usr/local/lib/python3.7/dist-packages (from google-auth<2,>=1.6.3->tensorboard~=2.5->tensorflow) (0.2.8)\n",
            "Requirement already satisfied: requests-oauthlib>=0.7.0 in /usr/local/lib/python3.7/dist-packages (from google-auth-oauthlib<0.5,>=0.4.1->tensorboard~=2.5->tensorflow) (1.3.0)\n",
            "Requirement already satisfied: importlib-metadata; python_version < \"3.8\" in /usr/local/lib/python3.7/dist-packages (from markdown>=2.6.8->tensorboard~=2.5->tensorflow) (4.5.0)\n",
            "Requirement already satisfied: pyasn1>=0.1.3 in /usr/local/lib/python3.7/dist-packages (from rsa<5,>=3.1.4; python_version >= \"3.6\"->google-auth<2,>=1.6.3->tensorboard~=2.5->tensorflow) (0.4.8)\n",
            "Requirement already satisfied: oauthlib>=3.0.0 in /usr/local/lib/python3.7/dist-packages (from requests-oauthlib>=0.7.0->google-auth-oauthlib<0.5,>=0.4.1->tensorboard~=2.5->tensorflow) (3.1.1)\n",
            "Requirement already satisfied: zipp>=0.5 in /usr/local/lib/python3.7/dist-packages (from importlib-metadata; python_version < \"3.8\"->markdown>=2.6.8->tensorboard~=2.5->tensorflow) (3.4.1)\n",
            "Collecting np_utils\n",
            "\u001b[?25l  Downloading https://files.pythonhosted.org/packages/b6/18/5704a782fd72727a9e63198fcc76fadb86975f45bcdf579c10f668329508/np_utils-0.5.12.1.tar.gz (61kB)\n",
            "\u001b[K     |████████████████████████████████| 61kB 4.5MB/s \n",
            "\u001b[?25hRequirement already satisfied: numpy>=1.0 in /usr/local/lib/python3.7/dist-packages (from np_utils) (1.19.5)\n",
            "Requirement already satisfied: future>=0.16 in /usr/local/lib/python3.7/dist-packages (from np_utils) (0.16.0)\n",
            "Building wheels for collected packages: np-utils\n",
            "  Building wheel for np-utils (setup.py) ... \u001b[?25l\u001b[?25hdone\n",
            "  Created wheel for np-utils: filename=np_utils-0.5.12.1-cp37-none-any.whl size=57133 sha256=f23c9207ec4bc3b4009ea2cab9aabf478b25f9cb40c72cfb368167e75ae4b310\n",
            "  Stored in directory: /root/.cache/pip/wheels/92/4b/81/206efd0d01330a96f3aebe5021d2d5f0b264b7ade827c306ef\n",
            "Successfully built np-utils\n",
            "Installing collected packages: np-utils\n",
            "Successfully installed np-utils-0.5.12.1\n"
          ],
          "name": "stdout"
        }
      ]
    },
    {
      "cell_type": "code",
      "metadata": {
        "id": "pyNCHFuyGgkS"
      },
      "source": [
        "import keras.utils\n",
        "import np_utils"
      ],
      "execution_count": null,
      "outputs": []
    },
    {
      "cell_type": "code",
      "metadata": {
        "id": "sRJVw9kAYilQ"
      },
      "source": [
        "import numpy as np \n",
        "import pandas as pd \n",
        "import matplotlib.pyplot as plt\n",
        "import cv2\n",
        "import tensorflow as tf\n",
        "from PIL import Image\n",
        "import os\n",
        "import keras\n",
        "from sklearn.model_selection import train_test_split\n"
      ],
      "execution_count": null,
      "outputs": []
    },
    {
      "cell_type": "code",
      "metadata": {
        "id": "oLlkRqRFGrDz"
      },
      "source": [
        "\n",
        "from keras.models import Sequential, load_model\n",
        "from keras.layers import Conv2D, MaxPool2D, Dense, Flatten, Dropout"
      ],
      "execution_count": null,
      "outputs": []
    },
    {
      "cell_type": "markdown",
      "metadata": {
        "id": "jUzLC4-THfJM"
      },
      "source": [
        "IMPORTANT"
      ]
    },
    {
      "cell_type": "code",
      "metadata": {
        "id": "nItvVXAVHRR9"
      },
      "source": [
        "from tensorflow.keras.utils import to_categorical"
      ],
      "execution_count": null,
      "outputs": []
    },
    {
      "cell_type": "code",
      "metadata": {
        "colab": {
          "base_uri": "https://localhost:8080/"
        },
        "id": "z2c7FQn2Y17D",
        "outputId": "e887eaa9-3568-4eff-b7bf-e7781d7e599a"
      },
      "source": [
        "from zipfile import ZipFile\n",
        "file_name = '/content/drive/MyDrive/Untitled folder/archive.zip'\n",
        "with ZipFile(file_name,'r') as zip:\n",
        "  zip.extractall()\n",
        "  print(\"Extraction completed\")"
      ],
      "execution_count": null,
      "outputs": [
        {
          "output_type": "stream",
          "text": [
            "Extraction completed\n"
          ],
          "name": "stdout"
        }
      ]
    },
    {
      "cell_type": "code",
      "metadata": {
        "colab": {
          "base_uri": "https://localhost:8080/"
        },
        "id": "hn_vHLPZh8mX",
        "outputId": "922bc339-f9d8-4f2d-f233-134433e85369"
      },
      "source": [
        "from google.colab import drive\n",
        "drive.mount('/content/drive')"
      ],
      "execution_count": null,
      "outputs": [
        {
          "output_type": "stream",
          "text": [
            "Mounted at /content/drive\n"
          ],
          "name": "stdout"
        }
      ]
    },
    {
      "cell_type": "code",
      "metadata": {
        "id": "XDNna7gKaHoN"
      },
      "source": [
        "data = []\n",
        "Class = []\n",
        "no_of_classes = 43\n",
        "cur_path = '/content/'\n",
        "\n",
        "for i in range(no_of_classes):\n",
        "    path = os.path.join(cur_path,'train',str(i))\n",
        "    all_images = os.listdir(path)\n",
        "    for a in all_images:\n",
        "          try:\n",
        "              imageRGB = Image.open(path + '/'+ a)\n",
        "              imageRGB = imageRGB.resize((30,30))\n",
        "              imageRGB = np.array(imageRGB)\n",
        "              data.append(imageRGB)\n",
        "              Class.append(i)\n",
        "          except:\n",
        "              print(\"Error\")"
      ],
      "execution_count": null,
      "outputs": []
    },
    {
      "cell_type": "markdown",
      "metadata": {
        "id": "KtuqvYGtJTTM"
      },
      "source": [
        "ARRAY OF IMAGES"
      ]
    },
    {
      "cell_type": "code",
      "metadata": {
        "id": "RScdgqnBdImw",
        "colab": {
          "base_uri": "https://localhost:8080/"
        },
        "outputId": "e4e7815d-d9ec-4a28-f639-23d55e11400b"
      },
      "source": [
        "data = np.array(data)\n",
        "Class = np.array(Class)\n",
        "\n",
        "\n",
        "X_train, X_test, y_train, y_test = train_test_split(data, Class, test_size=0.2, random_state=42)\n",
        "\n",
        "\n",
        "y_train = to_categorical(y_train, 43) \n",
        "y_test = to_categorical(y_test, 43)\n",
        "print(\"successful\")"
      ],
      "execution_count": null,
      "outputs": [
        {
          "output_type": "stream",
          "text": [
            "successful\n"
          ],
          "name": "stdout"
        }
      ]
    },
    {
      "cell_type": "markdown",
      "metadata": {
        "id": "s9m9N9FDVH57"
      },
      "source": [
        "MODEL CREATION "
      ]
    },
    {
      "cell_type": "code",
      "metadata": {
        "id": "jXJW0dl2duJf",
        "colab": {
          "base_uri": "https://localhost:8080/"
        },
        "outputId": "ee1809db-e2ea-4454-db7a-42930ae6daa8"
      },
      "source": [
        "model = Sequential()\n",
        "\n",
        "#first\n",
        "model.add(Conv2D(filters=32, kernel_size=(5,5), activation='relu', input_shape=X_train.shape[1:]))\n",
        "\n",
        "model.add(Conv2D(filters=32, kernel_size=(5,5), activation='relu'))\n",
        "\n",
        "model.add(MaxPool2D(pool_size=(2, 2)))\n",
        "\n",
        "model.add(Dropout(rate=0.25))\n",
        "\n",
        "#sec\n",
        "#model.add(Conv2D(filters=64, kernel_size=(5,5), activation='relu', input_shape=X_train.shape[1:]))\n",
        "\n",
        "#model.add(Conv2D(filters=64, kernel_size=(5,5), activation='relu'))\n",
        "\n",
        "#model.add(MaxPool2D(pool_size=(2, 2)))\n",
        "\n",
        "#model.add(Dropout(rate=0.20))\n",
        "\n",
        "model.add(Conv2D(filters=64, kernel_size=(3,3), activation='relu'))\n",
        "\n",
        "model.add(Conv2D(filters=64, kernel_size=(3,3), activation='relu'))\n",
        "\n",
        "model.add(MaxPool2D(pool_size=(2, 2)))\n",
        "\n",
        "model.add(Dropout(rate=0.20))\n",
        "\n",
        "model.add(Flatten())\n",
        "\n",
        "model.add(Dense(512, activation='relu'))\n",
        "\n",
        "model.add(Dropout(rate=0.6))\n",
        "\n",
        "model.add(Dense(43, activation='softmax'))\n",
        "\n",
        "print(\"Model created successfully\")"
      ],
      "execution_count": null,
      "outputs": [
        {
          "output_type": "stream",
          "text": [
            "Model created successfully\n"
          ],
          "name": "stdout"
        }
      ]
    },
    {
      "cell_type": "markdown",
      "metadata": {
        "id": "kSU8wlkOWfCc"
      },
      "source": [
        "Training The Model"
      ]
    },
    {
      "cell_type": "code",
      "metadata": {
        "colab": {
          "base_uri": "https://localhost:8080/"
        },
        "id": "VISyreWbd3gA",
        "outputId": "3e0120f3-d76b-4d4e-beb7-5ab07671cd6d"
      },
      "source": [
        "model.compile(loss='categorical_crossentropy', optimizer='adam', metrics=['accuracy'])\n",
        "modelFitting = model.fit(X_train, y_train, batch_size=64, epochs = 20 , validation_data=(X_test, y_test))\n",
        "print(\"Model trained successfully\")"
      ],
      "execution_count": null,
      "outputs": [
        {
          "output_type": "stream",
          "text": [
            "Epoch 1/20\n",
            "491/491 [==============================] - 46s 7ms/step - loss: 4.4657 - accuracy: 0.2673 - val_loss: 0.7035 - val_accuracy: 0.8236\n",
            "Epoch 2/20\n",
            "491/491 [==============================] - 3s 6ms/step - loss: 0.8073 - accuracy: 0.7591 - val_loss: 0.2547 - val_accuracy: 0.9282\n",
            "Epoch 3/20\n",
            "491/491 [==============================] - 3s 5ms/step - loss: 0.4338 - accuracy: 0.8711 - val_loss: 0.1724 - val_accuracy: 0.9568\n",
            "Epoch 4/20\n",
            "491/491 [==============================] - 3s 5ms/step - loss: 0.3437 - accuracy: 0.8974 - val_loss: 0.1302 - val_accuracy: 0.9624\n",
            "Epoch 5/20\n",
            "491/491 [==============================] - 3s 6ms/step - loss: 0.2970 - accuracy: 0.9123 - val_loss: 0.0843 - val_accuracy: 0.9788\n",
            "Epoch 6/20\n",
            "491/491 [==============================] - 3s 6ms/step - loss: 0.2571 - accuracy: 0.9255 - val_loss: 0.0769 - val_accuracy: 0.9799\n",
            "Epoch 7/20\n",
            "491/491 [==============================] - 3s 6ms/step - loss: 0.2182 - accuracy: 0.9359 - val_loss: 0.1011 - val_accuracy: 0.9723\n",
            "Epoch 8/20\n",
            "491/491 [==============================] - 3s 6ms/step - loss: 0.2429 - accuracy: 0.9298 - val_loss: 0.0682 - val_accuracy: 0.9829\n",
            "Epoch 9/20\n",
            "491/491 [==============================] - 3s 5ms/step - loss: 0.1934 - accuracy: 0.9415 - val_loss: 0.0738 - val_accuracy: 0.9800\n",
            "Epoch 10/20\n",
            "491/491 [==============================] - 3s 6ms/step - loss: 0.1924 - accuracy: 0.9442 - val_loss: 0.0479 - val_accuracy: 0.9890\n",
            "Epoch 11/20\n",
            "491/491 [==============================] - 3s 5ms/step - loss: 0.1829 - accuracy: 0.9472 - val_loss: 0.0709 - val_accuracy: 0.9796\n",
            "Epoch 12/20\n",
            "491/491 [==============================] - 3s 6ms/step - loss: 0.1564 - accuracy: 0.9550 - val_loss: 0.0597 - val_accuracy: 0.9844\n",
            "Epoch 13/20\n",
            "491/491 [==============================] - 3s 6ms/step - loss: 0.1871 - accuracy: 0.9462 - val_loss: 0.0565 - val_accuracy: 0.9866\n",
            "Epoch 14/20\n",
            "491/491 [==============================] - 3s 6ms/step - loss: 0.1675 - accuracy: 0.9513 - val_loss: 0.0604 - val_accuracy: 0.9858\n",
            "Epoch 15/20\n",
            "491/491 [==============================] - 3s 5ms/step - loss: 0.1633 - accuracy: 0.9530 - val_loss: 0.0474 - val_accuracy: 0.9865\n",
            "Epoch 16/20\n",
            "491/491 [==============================] - 3s 5ms/step - loss: 0.1525 - accuracy: 0.9562 - val_loss: 0.0463 - val_accuracy: 0.9866\n",
            "Epoch 17/20\n",
            "491/491 [==============================] - 3s 6ms/step - loss: 0.1532 - accuracy: 0.9561 - val_loss: 0.0459 - val_accuracy: 0.9881\n",
            "Epoch 18/20\n",
            "491/491 [==============================] - 3s 5ms/step - loss: 0.1663 - accuracy: 0.9567 - val_loss: 0.0504 - val_accuracy: 0.9874\n",
            "Epoch 19/20\n",
            "491/491 [==============================] - 3s 6ms/step - loss: 0.1307 - accuracy: 0.9635 - val_loss: 0.0591 - val_accuracy: 0.9815\n",
            "Epoch 20/20\n",
            "491/491 [==============================] - 3s 6ms/step - loss: 0.1593 - accuracy: 0.9563 - val_loss: 0.0480 - val_accuracy: 0.9874\n",
            "Model trained successfully\n"
          ],
          "name": "stdout"
        }
      ]
    },
    {
      "cell_type": "code",
      "metadata": {
        "id": "77uioqbUzrI4"
      },
      "source": [
        "model.save(\"trained_model_new.h5\")"
      ],
      "execution_count": null,
      "outputs": []
    },
    {
      "cell_type": "code",
      "metadata": {
        "colab": {
          "base_uri": "https://localhost:8080/"
        },
        "id": "r05bgvDcj6G8",
        "outputId": "1a556e40-f77e-4cc5-fdb8-bcdf3cf10507"
      },
      "source": [
        "model.summary()"
      ],
      "execution_count": null,
      "outputs": [
        {
          "output_type": "stream",
          "text": [
            "Model: \"sequential_1\"\n",
            "_________________________________________________________________\n",
            "Layer (type)                 Output Shape              Param #   \n",
            "=================================================================\n",
            "conv2d_4 (Conv2D)            (None, 26, 26, 32)        2432      \n",
            "_________________________________________________________________\n",
            "conv2d_5 (Conv2D)            (None, 22, 22, 32)        25632     \n",
            "_________________________________________________________________\n",
            "max_pooling2d_2 (MaxPooling2 (None, 11, 11, 32)        0         \n",
            "_________________________________________________________________\n",
            "dropout_3 (Dropout)          (None, 11, 11, 32)        0         \n",
            "_________________________________________________________________\n",
            "conv2d_6 (Conv2D)            (None, 9, 9, 64)          18496     \n",
            "_________________________________________________________________\n",
            "conv2d_7 (Conv2D)            (None, 7, 7, 64)          36928     \n",
            "_________________________________________________________________\n",
            "max_pooling2d_3 (MaxPooling2 (None, 3, 3, 64)          0         \n",
            "_________________________________________________________________\n",
            "dropout_4 (Dropout)          (None, 3, 3, 64)          0         \n",
            "_________________________________________________________________\n",
            "flatten_1 (Flatten)          (None, 576)               0         \n",
            "_________________________________________________________________\n",
            "dense_2 (Dense)              (None, 512)               295424    \n",
            "_________________________________________________________________\n",
            "dropout_5 (Dropout)          (None, 512)               0         \n",
            "_________________________________________________________________\n",
            "dense_3 (Dense)              (None, 43)                22059     \n",
            "=================================================================\n",
            "Total params: 400,971\n",
            "Trainable params: 400,971\n",
            "Non-trainable params: 0\n",
            "_________________________________________________________________\n"
          ],
          "name": "stdout"
        }
      ]
    },
    {
      "cell_type": "markdown",
      "metadata": {
        "id": "d5mst9sPMiD5"
      },
      "source": [
        "**Test Accuracy**"
      ]
    },
    {
      "cell_type": "code",
      "metadata": {
        "colab": {
          "base_uri": "https://localhost:8080/"
        },
        "id": "9g9Zdx2Yj_sr",
        "outputId": "85aa3a05-e8d5-4eb2-a82e-8de490fce087"
      },
      "source": [
        "from sklearn.metrics import accuracy_score\n",
        "y_test = pd.read_csv('/content/Test.csv')\n",
        "labels = y_test[\"ClassId\"].values\n",
        "imgs = y_test[\"Path\"].values\n",
        "data=[]\n",
        "for img in imgs:\n",
        "    image = Image.open(img)\n",
        "    image = image.resize((30,30))\n",
        "    data.append(np.array(image))\n",
        "X_test=np.array(data)\n",
        "pred = model.predict_classes(X_test)\n",
        "\n",
        "#Accuracy with the test data\n",
        "\n",
        "from sklearn.metrics import accuracy_score\n",
        "import warnings\n",
        "warnings.filterwarnings('ignore')\n",
        "print(\"Accuracy : \"+str(accuracy_score(labels, pred)*100))"
      ],
      "execution_count": null,
      "outputs": [
        {
          "output_type": "stream",
          "text": [
            "/usr/local/lib/python3.7/dist-packages/keras/engine/sequential.py:450: UserWarning: `model.predict_classes()` is deprecated and will be removed after 2021-01-01. Please use instead:* `np.argmax(model.predict(x), axis=-1)`,   if your model does multi-class classification   (e.g. if it uses a `softmax` last-layer activation).* `(model.predict(x) > 0.5).astype(\"int32\")`,   if your model does binary classification   (e.g. if it uses a `sigmoid` last-layer activation).\n",
            "  warnings.warn('`model.predict_classes()` is deprecated and '\n"
          ],
          "name": "stderr"
        },
        {
          "output_type": "stream",
          "text": [
            "Accuracy : 95.05938242280286\n"
          ],
          "name": "stdout"
        }
      ]
    },
    {
      "cell_type": "code",
      "metadata": {
        "colab": {
          "base_uri": "https://localhost:8080/"
        },
        "id": "l2uSDPjOl1zw",
        "outputId": "aaccac29-c25a-4cca-9624-18ddeb3469ee"
      },
      "source": [
        "y_test = pd.read_csv('/content/Test.csv')\n",
        "labels = y_test[\"ClassId\"].values\n",
        "print(accuracy_score(labels, pred))"
      ],
      "execution_count": null,
      "outputs": [
        {
          "output_type": "stream",
          "text": [
            "0.9505938242280285\n"
          ],
          "name": "stdout"
        }
      ]
    },
    {
      "cell_type": "code",
      "metadata": {
        "colab": {
          "base_uri": "https://localhost:8080/"
        },
        "id": "klrCCJ4Ml6qK",
        "outputId": "c76faa54-cafd-4521-8f16-63ce3e3525dc"
      },
      "source": [
        "print(type(pred))\n",
        "print(pred)\n",
        "\n"
      ],
      "execution_count": null,
      "outputs": [
        {
          "output_type": "stream",
          "text": [
            "<class 'numpy.ndarray'>\n",
            "[16  1 38 ... 15  7 10]\n"
          ],
          "name": "stdout"
        }
      ]
    },
    {
      "cell_type": "markdown",
      "metadata": {
        "id": "M5FxgHO1fcFz"
      },
      "source": [
        "CUSTOM TEST\n"
      ]
    },
    {
      "cell_type": "code",
      "metadata": {
        "id": "u8unL9UcmSvg",
        "colab": {
          "base_uri": "https://localhost:8080/"
        },
        "outputId": "0816c884-0534-44ce-f373-99fc6887ff0d"
      },
      "source": [
        "classes = { 1:'Speed limit (20km/h)',\n",
        "            2:'Speed limit (30km/h)', \n",
        "            3:'Speed limit (50km/h)', \n",
        "            4:'Speed limit (60km/h)', \n",
        "            5:'Speed limit (70km/h)', \n",
        "            6:'Speed limit (80km/h)', \n",
        "            7:'End of speed limit (80km/h)', \n",
        "            8:'Speed limit (100km/h)', \n",
        "            9:'Speed limit (120km/h)', \n",
        "            10:'No passing', \n",
        "            11:'No passing veh over 3.5 tons', \n",
        "            12:'Right-of-way at intersection', \n",
        "            13:'Priority road', \n",
        "            14:'Yield', \n",
        "            15:'Stop', \n",
        "            16:'No vehicles', \n",
        "            17:'Veh > 3.5 tons prohibited', \n",
        "            18:'No entry', \n",
        "            19:'General caution', \n",
        "            20:'Dangerous curve left', \n",
        "            21:'Dangerous curve right', \n",
        "            22:'Double curve', \n",
        "            23:'Bumpy road', \n",
        "            24:'Slippery road', \n",
        "            25:'Road narrows on the right', \n",
        "            26:'Road work', \n",
        "            27:'Traffic signals', \n",
        "            28:'Pedestrians', \n",
        "            29:'Children crossing', \n",
        "            30:'Bicycles crossing', \n",
        "            31:'Beware of ice/snow',\n",
        "            32:'Wild animals crossing', \n",
        "            33:'End speed + passing limits', \n",
        "            34:'Turn right ahead', \n",
        "            35:'Turn left ahead', \n",
        "            36:'Ahead only', \n",
        "            37:'Go straight or right', \n",
        "            38:'Go straight or left', \n",
        "            39:'Keep right', \n",
        "            40:'Keep left', \n",
        "            41:'Roundabout mandatory', \n",
        "            42:'End of no passing', \n",
        "            43:'End no passing veh > 3.5 tons' }\n",
        "print(\"Classes initialized\")"
      ],
      "execution_count": null,
      "outputs": [
        {
          "output_type": "stream",
          "text": [
            "Classes initialized\n"
          ],
          "name": "stdout"
        }
      ]
    },
    {
      "cell_type": "code",
      "metadata": {
        "colab": {
          "base_uri": "https://localhost:8080/"
        },
        "id": "IAi6hF2kJIl5",
        "outputId": "5a4418c6-99ab-4351-f121-ac7a7b4c2c96"
      },
      "source": [
        "model = tf.keras.models.load_model('/content/trained_model_new.h5')\n",
        "model.summary()"
      ],
      "execution_count": null,
      "outputs": [
        {
          "output_type": "stream",
          "text": [
            "Model: \"sequential\"\n",
            "_________________________________________________________________\n",
            "Layer (type)                 Output Shape              Param #   \n",
            "=================================================================\n",
            "conv2d (Conv2D)              (None, 26, 26, 32)        2432      \n",
            "_________________________________________________________________\n",
            "conv2d_1 (Conv2D)            (None, 22, 22, 32)        25632     \n",
            "_________________________________________________________________\n",
            "max_pooling2d (MaxPooling2D) (None, 11, 11, 32)        0         \n",
            "_________________________________________________________________\n",
            "dropout (Dropout)            (None, 11, 11, 32)        0         \n",
            "_________________________________________________________________\n",
            "conv2d_2 (Conv2D)            (None, 9, 9, 64)          18496     \n",
            "_________________________________________________________________\n",
            "conv2d_3 (Conv2D)            (None, 7, 7, 64)          36928     \n",
            "_________________________________________________________________\n",
            "max_pooling2d_1 (MaxPooling2 (None, 3, 3, 64)          0         \n",
            "_________________________________________________________________\n",
            "dropout_1 (Dropout)          (None, 3, 3, 64)          0         \n",
            "_________________________________________________________________\n",
            "flatten (Flatten)            (None, 576)               0         \n",
            "_________________________________________________________________\n",
            "dense (Dense)                (None, 512)               295424    \n",
            "_________________________________________________________________\n",
            "dropout_2 (Dropout)          (None, 512)               0         \n",
            "_________________________________________________________________\n",
            "dense_1 (Dense)              (None, 43)                22059     \n",
            "=================================================================\n",
            "Total params: 400,971\n",
            "Trainable params: 400,971\n",
            "Non-trainable params: 0\n",
            "_________________________________________________________________\n"
          ],
          "name": "stdout"
        }
      ]
    },
    {
      "cell_type": "code",
      "metadata": {
        "colab": {
          "base_uri": "https://localhost:8080/",
          "height": 68
        },
        "id": "Y00GLAoxmZXq",
        "outputId": "abbd2ccd-d80f-4329-f16b-60bbaa32e5a5"
      },
      "source": [
        "\n",
        "image = Image.open('/content/00035.png')\n",
        "image = image.resize((30,30))\n",
        "image = np.expand_dims(image, axis=0)\n",
        "image = np.array(image)\n",
        "pred = model.predict_classes([image])[0]\n",
        "sign = classes[pred+1]\n",
        "print(sign)\n",
        "im = Image.open('/content/00035.png')\n",
        "im"
      ],
      "execution_count": null,
      "outputs": [
        {
          "output_type": "stream",
          "text": [
            "No entry\n"
          ],
          "name": "stdout"
        },
        {
          "output_type": "execute_result",
          "data": {
            "image/png": "[encoded data removed]",
            "text/plain": [
              "<PIL.PngImagePlugin.PngImageFile image mode=RGB size=33x34 at 0x7FC5AA642B90>"
            ]
          },
          "metadata": {
            "tags": []
          },
          "execution_count": 28
        }
      ]
    },
    {
      "cell_type": "code",
      "metadata": {
        "colab": {
          "base_uri": "https://localhost:8080/",
          "height": 171
        },
        "id": "RRxRojzzmrXa",
        "outputId": "cb454c70-c264-40d8-f8ba-fee6657873b6"
      },
      "source": [
        "image = Image.open('/content/stop.png')\n",
        "image = image.resize((30,30))\n",
        "image = np.expand_dims(image, axis=0)\n",
        "image = np.array(image)\n",
        "pred = model.predict_classes([image])[0]\n",
        "sign = classes[pred+1]\n",
        "print(sign)\n",
        "im = Image.open('/content/stop.png')\n",
        "im"
      ],
      "execution_count": null,
      "outputs": [
        {
          "output_type": "stream",
          "text": [
            "Speed limit (50km/h)\n"
          ],
          "name": "stdout"
        },
        {
          "output_type": "stream",
          "text": [
            "/usr/local/lib/python3.7/dist-packages/tensorflow/python/keras/engine/sequential.py:450: UserWarning: `model.predict_classes()` is deprecated and will be removed after 2021-01-01. Please use instead:* `np.argmax(model.predict(x), axis=-1)`,   if your model does multi-class classification   (e.g. if it uses a `softmax` last-layer activation).* `(model.predict(x) > 0.5).astype(\"int32\")`,   if your model does binary classification   (e.g. if it uses a `sigmoid` last-layer activation).\n",
            "  warnings.warn('`model.predict_classes()` is deprecated and '\n"
          ],
          "name": "stderr"
        },
        {
          "output_type": "execute_result",
          "data": {
            "image/png": "[encoded data removed]",
            "text/plain": [
              "<PIL.PngImagePlugin.PngImageFile image mode=RGB size=80x83 at 0x7F0D61BFCF90>"
            ]
          },
          "metadata": {
            "tags": []
          },
          "execution_count": 52
        }
      ]
    },
    {
      "cell_type": "markdown",
      "metadata": {
        "id": "3VWpiHAaN_n3"
      },
      "source": [
        "Graph for the loss\n"
      ]
    },
    {
      "cell_type": "code",
      "metadata": {
        "id": "zIzyf2KgnuT-",
        "colab": {
          "base_uri": "https://localhost:8080/",
          "height": 294
        },
        "outputId": "c81a0221-4092-4fa1-f8b3-2b6674376c43"
      },
      "source": [
        "plt.plot(history.history['loss'], label='training loss')\n",
        "plt.plot(history.history['val_loss'], label='val loss')\n",
        "plt.title('Loss')\n",
        "plt.xlabel('epochs')\n",
        "plt.ylabel('loss')\n",
        "plt.legend()\n",
        "plt.show()"
      ],
      "execution_count": null,
      "outputs": [
        {
          "output_type": "display_data",
          "data": {
            "image/png": "[encoded data removed]",
            "text/plain": [
              "<Figure size 432x288 with 1 Axes>"
            ]
          },
          "metadata": {
            "tags": [],
            "needs_background": "light"
          }
        }
      ]
    },
    {
      "cell_type": "code",
      "metadata": {
        "colab": {
          "base_uri": "https://localhost:8080/",
          "height": 294
        },
        "id": "ksyVrMa9OwYv",
        "outputId": "54cc211f-bd39-41db-b413-64822b27b186"
      },
      "source": [
        "# accuracy \n",
        "plt.figure(0)\n",
        "plt.plot(history.history['accuracy'], label='training accuracy')\n",
        "plt.plot(history.history['val_accuracy'], label='val accuracy')\n",
        "plt.title('Accuracy')\n",
        "plt.xlabel('epochs')\n",
        "plt.ylabel('accuracy')\n",
        "plt.legend()\n",
        "plt.show()"
      ],
      "execution_count": null,
      "outputs": [
        {
          "output_type": "display_data",
          "data": {
            "image/png": "[encoded data removed]",
            "text/plain": [
              "<Figure size 432x288 with 1 Axes>"
            ]
          },
          "metadata": {
            "tags": [],
            "needs_background": "light"
          }
        }
      ]
    },
    {
      "cell_type": "code",
      "metadata": {
        "id": "zq1arlr8OwzH"
      },
      "source": [
        ""
      ],
      "execution_count": null,
      "outputs": []
    }
  ]
}